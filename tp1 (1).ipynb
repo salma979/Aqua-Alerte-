{
 "cells": [
  {
   "cell_type": "markdown",
   "id": "ff3b4492-9423-4193-8fd9-d211c67739f2",
   "metadata": {},
   "source": [
    "TP1"
   ]
  },
  {
   "cell_type": "code",
   "execution_count": 3,
   "id": "9b1ef288-de5a-474f-8295-e772a8fcdb64",
   "metadata": {},
   "outputs": [],
   "source": [
    "a=2"
   ]
  },
  {
   "cell_type": "code",
   "execution_count": 4,
   "id": "8f25765c-76e3-40d4-a92e-ae90fdd0468d",
   "metadata": {},
   "outputs": [],
   "source": [
    "b=3"
   ]
  },
  {
   "cell_type": "code",
   "execution_count": 5,
   "id": "f998dca5-a35a-4ddc-b72d-00c28122dbaf",
   "metadata": {},
   "outputs": [
    {
     "data": {
      "text/plain": [
       "5"
      ]
     },
     "execution_count": 5,
     "metadata": {},
     "output_type": "execute_result"
    }
   ],
   "source": [
    "a+b"
   ]
  }
 ],
 "metadata": {
  "kernelspec": {
   "display_name": "Python 3 (ipykernel)",
   "language": "python",
   "name": "python3"
  },
  "language_info": {
   "codemirror_mode": {
    "name": "ipython",
    "version": 3
   },
   "file_extension": ".py",
   "mimetype": "text/x-python",
   "name": "python",
   "nbconvert_exporter": "python",
   "pygments_lexer": "ipython3",
   "version": "3.12.4"
  }
 },
 "nbformat": 4,
 "nbformat_minor": 5
}
